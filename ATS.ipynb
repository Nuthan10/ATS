{
  "nbformat": 4,
  "nbformat_minor": 0,
  "metadata": {
    "colab": {
      "private_outputs": true,
      "provenance": [],
      "mount_file_id": "1QI68InCY3oREZPvLF1s9bBfxfmdNHyUo",
      "authorship_tag": "ABX9TyOxLk2+61tFB6XyUSsjyh0K",
      "include_colab_link": true
    },
    "kernelspec": {
      "name": "python3",
      "display_name": "Python 3"
    },
    "language_info": {
      "name": "python"
    }
  },
  "cells": [
    {
      "cell_type": "markdown",
      "metadata": {
        "id": "view-in-github",
        "colab_type": "text"
      },
      "source": [
        "<a href=\"https://colab.research.google.com/github/Nuthan10/ATS/blob/main/ATS.ipynb\" target=\"_parent\"><img src=\"https://colab.research.google.com/assets/colab-badge.svg\" alt=\"Open In Colab\"/></a>"
      ]
    },
    {
      "cell_type": "code",
      "source": [
        "import os\n",
        "import numpy as np\n",
        "import tensorflow_hub as hub\n",
        "import tensorflow_text  # needed for some USE models\n",
        "from sklearn.metrics.pairwise import cosine_similarity\n",
        "import PyPDF2\n",
        "\n",
        "# 2) Helpers to pull text out of PDF/TXT resumes & JDs\n",
        "def extract_text_from_pdf(path):\n",
        "    text = \"\"\n",
        "    with open(path, \"rb\") as f:\n",
        "        reader = PyPDF2.PdfReader(f)\n",
        "        for page in reader.pages:\n",
        "            p = page.extract_text()\n",
        "            if p:\n",
        "                text += p\n",
        "    return text\n",
        "\n",
        "def load_documents(folder):\n",
        "    docs = []\n",
        "    for fn in sorted(os.listdir(folder)):\n",
        "        if fn.lower().endswith((\".pdf\", \".txt\")):\n",
        "            path = os.path.join(folder, fn)\n",
        "            if fn.lower().endswith(\".pdf\"):\n",
        "                txt = extract_text_from_pdf(path)\n",
        "            else:\n",
        "                txt = open(path, \"r\", encoding=\"utf-8\").read()\n",
        "            docs.append((fn, txt.replace(\"\\n\", \" \")))\n",
        "    return docs\n",
        "\n",
        "# 3) Load USE from TensorFlow Hub (this may take ~30s first run)\n",
        "print(\"Loading Universal Sentence Encoder…\")\n",
        "use = hub.load(\"https://tfhub.dev/google/universal-sentence-encoder/4\")\n",
        "\n",
        "def get_use_embeddings(texts):\n",
        "    \"\"\"\n",
        "    texts: list of str → returns np.array of shape (len(texts), embed_dim)\n",
        "    \"\"\"\n",
        "    return use(texts).numpy()\n",
        "\n",
        "# 4) Rank resumes by cosine similarity against JD\n",
        "def rank_resumes(resumes, jd_text):\n",
        "    # batch all texts at once for speed\n",
        "    all_texts = [jd_text] + [txt for _, txt in resumes]\n",
        "    embeddings = get_use_embeddings(all_texts)\n",
        "    jd_emb = embeddings[0:1]            # shape (1, dim)\n",
        "    resume_embs = embeddings[1:]        # shape (n, dim)\n",
        "\n",
        "    sims = cosine_similarity(jd_emb, resume_embs)[0]  # length n\n",
        "    scored = list(zip([fn for fn, _ in resumes], sims))\n",
        "    return sorted(scored, key=lambda x: x[1], reverse=True)\n",
        "\n",
        "# 5) Main driver\n",
        "def main(resume_folder, jd_file):\n",
        "    resumes = load_documents(resume_folder)\n",
        "\n",
        "    if jd_file.lower().endswith(\".pdf\"):\n",
        "        jd = extract_text_from_pdf(jd_file).replace(\"\\n\", \" \")\n",
        "    else:\n",
        "        jd = open(jd_file, \"r\", encoding=\"utf-8\").read().replace(\"\\n\", \" \")\n",
        "\n",
        "    print(\"Computing embeddings and similarities…\")\n",
        "    ranked = rank_resumes(resumes, jd)\n",
        "\n",
        "    print(\"\\n=== Resume Rankings ===\")\n",
        "    for fn, score in ranked:\n",
        "     pct = score * 100\n",
        "     print(f\"{fn}: {pct:.2f}%\")\n",
        "\n",
        "# Define the paths to your resume folder and JD file here\n",
        "resume_folder = \"/content/drive/MyDrive/ATS/resumes\"  # Replace with the actual path\n",
        "jd_file = \"/content/drive/MyDrive/ATS/job_description.txt\"  # Replace with the actual path\n",
        "\n",
        "main(resume_folder, jd_file)"
      ],
      "metadata": {
        "id": "0755Jj77c2mp"
      },
      "execution_count": null,
      "outputs": []
    },
    {
      "cell_type": "code",
      "source": [],
      "metadata": {
        "id": "61zqenD_ZH5S"
      },
      "execution_count": null,
      "outputs": []
    },
    {
      "cell_type": "code",
      "metadata": {
        "id": "d8a8ccbb"
      },
      "source": [
        "!pip install PyPDF2"
      ],
      "execution_count": null,
      "outputs": []
    }
  ]
}